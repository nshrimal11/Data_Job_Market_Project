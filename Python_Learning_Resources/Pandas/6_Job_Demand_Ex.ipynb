{
 "cells": [
  {
   "cell_type": "code",
   "execution_count": 1,
   "metadata": {},
   "outputs": [],
   "source": [
    "import pandas as pd\n",
    "from datasets import load_dataset\n",
    "import matplotlib.pyplot as plt\n",
    "\n",
    "# Load Datasets\n",
    "dataset = load_dataset('lukebarousse/data_jobs')\n",
    "df = dataset['train'].to_pandas()\n",
    "\n",
    "# Data Cleanup\n",
    "df['job_posted_date'] = pd.to_datetime(df['job_posted_date'])"
   ]
  },
  {
   "cell_type": "code",
   "execution_count": null,
   "metadata": {},
   "outputs": [],
   "source": [
    "df_usa = df[df['job_country'] == 'United States'].copy()\n",
    "\n",
    "df_usa"
   ]
  },
  {
   "cell_type": "code",
   "execution_count": null,
   "metadata": {},
   "outputs": [],
   "source": [
    "# Code below checks the range of years in our the column 'job_posted_date'\n",
    "# We just want to investigate a single year\n",
    "\n",
    "# Ensure 'job_posted_date' is in datetime format\n",
    "df_usa['job_posted_date'] = pd.to_datetime(df_usa['job_posted_date'])\n",
    "\n",
    "# Extract the year from the 'job_posted_date' column\n",
    "df_usa['year'] = df_usa['job_posted_date'].dt.year\n",
    "\n",
    "# Get the range of years\n",
    "year_range = df_usa['year'].min(), df_usa['year'].max()\n",
    "\n",
    "year_range"
   ]
  },
  {
   "cell_type": "code",
   "execution_count": null,
   "metadata": {},
   "outputs": [],
   "source": [
    "df_usa['job_posted_month'] = df_usa['job_posted_date'].dt.strftime('%B')\n",
    "\n",
    "df_usa"
   ]
  },
  {
   "cell_type": "code",
   "execution_count": null,
   "metadata": {},
   "outputs": [],
   "source": [
    "df_usa_pivot = df_usa.pivot_table(index = 'job_posted_month', columns = 'job_title_short', aggfunc = 'size')\n",
    "\n",
    "df_usa_pivot"
   ]
  },
  {
   "cell_type": "code",
   "execution_count": 6,
   "metadata": {},
   "outputs": [],
   "source": [
    "df_usa_pivot.reset_index(inplace=True)\n",
    "df_usa_pivot['month_no'] = pd.to_datetime(df_usa_pivot['job_posted_month'], format='%B').dt.month\n",
    "\n"
   ]
  },
  {
   "cell_type": "code",
   "execution_count": null,
   "metadata": {},
   "outputs": [],
   "source": [
    "df_usa_pivot"
   ]
  },
  {
   "cell_type": "code",
   "execution_count": 8,
   "metadata": {},
   "outputs": [],
   "source": [
    "df_usa_pivot.sort_values('month_no', inplace=True)\n",
    "df_usa_pivot.set_index('job_posted_month', inplace=True)\n",
    "df_usa_pivot.drop(columns='month_no', inplace=True)"
   ]
  },
  {
   "cell_type": "code",
   "execution_count": null,
   "metadata": {},
   "outputs": [],
   "source": [
    "df_usa_pivot"
   ]
  },
  {
   "cell_type": "code",
   "execution_count": null,
   "metadata": {},
   "outputs": [],
   "source": [
    "df_usa_pivot.plot(kind = 'line')"
   ]
  },
  {
   "cell_type": "code",
   "execution_count": null,
   "metadata": {},
   "outputs": [],
   "source": [
    "top_3 = df_usa['job_title_short'].value_counts().head(3)\n",
    "top_3 = top_3.index.tolist()\n",
    "top_3"
   ]
  },
  {
   "cell_type": "code",
   "execution_count": null,
   "metadata": {},
   "outputs": [],
   "source": [
    "df_usa_pivot[top_3].plot(kind='line')\n",
    "plt .title('Monthly Job Postings for Top Data Jobs in the US')\n",
    "plt.xlabel('2023')\n",
    "plt.ylabel('Job Count')\n",
    "plt.xticks(rotation = 45, ha = 'right')\n",
    "plt.legend()\n",
    "plt.show()"
   ]
  },
  {
   "cell_type": "code",
   "execution_count": null,
   "metadata": {},
   "outputs": [],
   "source": []
  }
 ],
 "metadata": {
  "kernelspec": {
   "display_name": "python_course",
   "language": "python",
   "name": "python3"
  },
  "language_info": {
   "codemirror_mode": {
    "name": "ipython",
    "version": 3
   },
   "file_extension": ".py",
   "mimetype": "text/x-python",
   "name": "python",
   "nbconvert_exporter": "python",
   "pygments_lexer": "ipython3",
   "version": "3.12.5"
  }
 },
 "nbformat": 4,
 "nbformat_minor": 2
}
